{
 "cells": [
  {
   "cell_type": "markdown",
   "metadata": {},
   "source": [
    "# Introductort Mars Express and ExoMars2016 Example"
   ]
  },
  {
   "cell_type": "markdown",
   "metadata": {},
   "source": [
    "This is a Python Jupyter Notebook to illustrate a SPICE running example. \n",
    "This could be your very own Python 3 environment, the first thing we will do is indicate that we want the Python package matplotlib to be output in the notebook and to import the SpiceyPy package to use SPICE."
   ]
  },
  {
   "cell_type": "code",
   "execution_count": 2,
   "metadata": {},
   "outputs": [],
   "source": [
    "%matplotlib inline\n",
    "\n",
    "import math\n",
    "import spiceypy as spiceypy"
   ]
  },
  {
   "cell_type": "markdown",
   "metadata": {},
   "source": [
    "## A Mars Express Phobos observation example"
   ]
  },
  {
   "cell_type": "markdown",
   "metadata": {},
   "source": [
    "In this first example, we will compute some basic geometry for a Phobos observation by the HRSC camera, more concretely the SRC sensor. We an retrieve the image from the Planetary Science Archive (PSA) User Interface. \n",
    "\n",
    "![title](img/HF780_0004_SR2.JPG)\n",
    "\n",
    "The metadata of the image is as follows:"
   ]
  },
  {
   "cell_type": "raw",
   "metadata": {},
   "source": [
    "ILE_NAME                          = \"HF780_0004_SR2.IMG\"\n",
    "DATA_SET_ID                       = \"MEX-M-HRSC-3-RDR-V3.0\"\n",
    "DATA_SET_NAME                     = \"MARS EXPRESS HRSC RADIOMETRIC RDR V3.0\"\n",
    "DETECTOR_ID                       = MEX_HRSC_SRC\n",
    "EVENT_TYPE                        = \"PHOBOS-LIMB-CARTOGRAPHY-Im\"\n",
    "INSTRUMENT_HOST_ID                = MEX\n",
    "INSTRUMENT_HOST_NAME              = \"MARS EXPRESS\"\n",
    "INSTRUMENT_ID                     = HRSC\n",
    "INSTRUMENT_NAME                   = \"HIGH RESOLUTION STEREO CAMERA\"\n",
    "MISSION_NAME                      = \"MARS EXPRESS\"\n",
    "MISSION_PHASE_NAME                = ME_Phase_34\n",
    "PROCESSING_LEVEL_ID               = 2\n",
    "PRODUCT_CREATION_TIME             = 2016-10-12T14:44:59.000Z\n",
    "PRODUCT_ID                        = \"HF780_0004_SR2.IMG\"\n",
    "RELEASE_ID                        = 0135\n",
    "REVISION_ID                       = 0000\n",
    "\n",
    "/* TIME DATA ELEMENTS */\n",
    "\n",
    "SPACECRAFT_CLOCK_START_COUNT      = \"1/0413953734.09070\"\n",
    "SPACECRAFT_CLOCK_STOP_COUNT       = \"1/0413954068.03550\"\n",
    "IMAGE_TIME                        = 2016-06-14T03:11:56.218Z\n",
    "START_TIME                        = 2016-06-14T03:11:56.208Z\n",
    "STOP_TIME                         = 2016-06-14T03:11:56.229Z\n",
    "\n",
    "/* ORBITAL DATA ELEMENTS */\n",
    "\n",
    "ASCENDING_NODE_LONGITUDE          = 277.44\n",
    "MAXIMUM_RESOLUTION                = 13.127 <m/pixel>\n",
    "FOOTPRINT_POINT_LATITUDE          = (-2.45091,-4.20132,-6.69718,-8.56859,\n",
    "                                     -9.92483,-11.9172,-14.2082,-15.6501,\n",
    "                                     -16.9715,-18.241,-19.5389,-21.1877,\n",
    "                                     -22.5683,-24.4923,-25.8956,-28.239,\n",
    "                                     -30.2544,-31.6687,-33.5933,-35.6881,\n",
    "                                     -38.3598,-39.3684,-37.311,-46.55,\n",
    "                                     -37.526,-36.2954,-37.7943,-36.4712,\n",
    "                                     -37.5988,-37.7628,-37.914,-37.1192,\n",
    "                                     -35.5946,-33.1006,-31.2839,-27.7103,\n",
    "                                     -25.3682,-23.4647,-21.4712,-23.1328,\n",
    "                                     -25.1148,-27.2475,-38.1668,-39.3906,\n",
    "                                     -36.6314,-35.2344,-32.2188,-30.4695,\n",
    "                                     -28.9778,-26.4506,-25.0715,-23.8333,\n",
    "                                     -22.1427,-20.0663,-18.9865,-17.2115,\n",
    "                                     -15.5611,-14.4438,-12.9934,-11.7893,\n",
    "                                     -10.1508,-8.91038,-7.64224,-6.67904,\n",
    "                                     -5.50784,-4.29621,-2.88217,-1.09455,\n",
    "                                     0.161383,1.92549,3.00329,3.96195,\n",
    "                                     4.55356,5.17032,5.76145,6.13555,6.41007\n",
    "                                     ,6.82407,7.10585,7.39002,7.40621,\n",
    "                                     7.23752,7.0675,7.05236,6.94201,6.66345,\n",
    "                                     6.46473,6.15906,5.57211,4.68198,3.96347\n",
    "                                     ,3.22889,2.54748,1.88915,1.42313,\n",
    "                                     0.920676,0.339652,-0.322238,-0.87023,\n",
    "                                     -2.45091)\n",
    "FOOTPRINT_POINT_LONGITUDE         = (264.811,264.768,264.721,264.654,\n",
    "                                     264.666,264.638,264.776,264.824,264.881\n",
    "                                     ,264.959,265.018,265.081,265.134,\n",
    "                                     265.226,265.294,265.523,265.714,265.941\n",
    "                                     ,266.277,266.588,267.139,266.141,\n",
    "                                     264.711,265.427,262.688,260.585,259.768\n",
    "                                     ,258.698,256.861,254.966,253.06,251.219\n",
    "                                     ,249.506,247.986,247.34,246.947,246.455\n",
    "                                     ,245.19,243.996,242.21,241.038,239.78,\n",
    "                                     235.704,234.324,234.485,234.145,234.407\n",
    "                                     ,234.218,233.956,233.315,233.053,\n",
    "                                     232.027,230.482,229.132,228.137,226.737\n",
    "                                     ,225.318,224.393,223.632,222.777,\n",
    "                                     222.128,221.326,220.512,219.542,218.685\n",
    "                                     ,217.846,217.141,215.898,215.047,\n",
    "                                     213.685,212.655,211.408,209.7,211.216,\n",
    "                                     213.714,215.545,216.807,218.722,220.529\n",
    "                                     ,223.423,226.165,229.451,231.695,\n",
    "                                     234.104,237.116,240.102,241.906,243.691\n",
    "                                     ,246.059,249.057,250.871,252.716,\n",
    "                                     254.585,256.467,257.727,258.992,260.268\n",
    "                                     ,261.558,262.839,264.811)\n",
    "ORBIT_NUMBER                      = 15780\n",
    "ORBITAL_ECCENTRICITY              = 0.574\n",
    "ORBITAL_INCLINATION               = 86.93\n",
    "ORBITAL_SEMIMAJOR_AXIS            = 8822.05\n",
    "PERIAPSIS_ALTITUDE                = 367.96\n",
    "PERIAPSIS_ARGUMENT_ANGLE          = 139.44\n",
    "PERIAPSIS_TIME                    = 2016-06-14T04:34:05.000Z\n",
    "SPACECRAFT_ORIENTATION            = (0.0,-1.0,0.0)\n",
    "^MEX_ORIENTATION_DESC             = \"MEX_ORIENTATION_DESC.TXT\"\n",
    "SPACECRAFT_POINTING_MODE          = INERT\n",
    "^MEX_POINTING_DESC                = \"MEX_POINTING_DESC.TXT\"\n",
    "RIGHT_ASCENSION                   = 191.359\n",
    "DECLINATION                       = -21.659\n",
    "OFFSET_ANGLE                      = -1e+32\n",
    "SPACECRAFT_SOLAR_DISTANCE         = 2.23219e+08\n",
    "TARGET_NAME                       = PHOBOS\n"
   ]
  },
  {
   "cell_type": "code",
   "execution_count": 3,
   "metadata": {},
   "outputs": [],
   "source": [
    "spiceypy.furnsh('/Users/mcosta/MARS-EXPRESS/kernels/mk/MEX_OPS_LOCAL.TM')"
   ]
  },
  {
   "cell_type": "markdown",
   "metadata": {},
   "source": [
    "We convert from UTC to Ephemeris Time (ET) the time of the image: 2016-06-14T03:11:56.218Z"
   ]
  },
  {
   "cell_type": "code",
   "execution_count": 4,
   "metadata": {},
   "outputs": [],
   "source": [
    "et = spiceypy.utc2et('2016-06-14T03:11:56.208')"
   ]
  },
  {
   "cell_type": "markdown",
   "metadata": {},
   "source": [
    "We can check that the SCLK information provided at the product corresponds to the one provided by the SPICE Kernels"
   ]
  },
  {
   "cell_type": "raw",
   "metadata": {},
   "source": [
    "/* TIME DATA ELEMENTS */\n",
    "\n",
    "SPACECRAFT_CLOCK_START_COUNT      = \"1/0413953734.09070\"\n",
    "SPACECRAFT_CLOCK_STOP_COUNT       = \"1/0413954068.03550\"\n",
    "IMAGE_TIME                        = 2016-06-14T03:11:56.218Z\n",
    "START_TIME                        = 2016-06-14T03:11:56.208Z\n",
    "STOP_TIME                         = 2016-06-14T03:11:56.229Z"
   ]
  },
  {
   "cell_type": "code",
   "execution_count": 5,
   "metadata": {},
   "outputs": [
    {
     "name": "stdout",
     "output_type": "stream",
     "text": [
      "1/0413953910.47849\n"
     ]
    }
   ],
   "source": [
    "id = spiceypy.bodn2c('MARS EXPRESS')\n",
    "sclk = spiceypy.sce2s(id,et,32)\n",
    "\n",
    "print(sclk)"
   ]
  },
  {
   "cell_type": "markdown",
   "metadata": {},
   "source": [
    "We obtain the HRSC boresight and boresight reference frame"
   ]
  },
  {
   "cell_type": "code",
   "execution_count": 6,
   "metadata": {},
   "outputs": [
    {
     "name": "stdout",
     "output_type": "stream",
     "text": [
      "MEX_HRSC_SRC shape: RECTANGLE\n",
      "MEX_HRSC_SRC frame: MEX_HRSC_SRC\n",
      "MEX_HRSC_SRC bsight: [  0.     0.   984.76]\n",
      "MEX_HRSC_SRC vectors: 4\n",
      "[[  4.64050347   4.64050347 984.73813222]\n",
      " [ -4.64050347   4.64050347 984.73813222]\n",
      " [ -4.64050347  -4.64050347 984.73813222]\n",
      " [  4.64050347  -4.64050347 984.73813222]]\n"
     ]
    }
   ],
   "source": [
    "et = spiceypy.utc2et('2016-06-14T03:11:56.218')\n",
    "\n",
    "sensor_name = 'MEX_HRSC_SRC'\n",
    "\n",
    "sensor_id = spiceypy.bodn2c(sensor_name)\n",
    "(shape, frame, bsight, vectors, bounds) = spiceypy.getfov(sensor_id, 100)\n",
    "\n",
    "print('{} shape: {}'.format(sensor_name, shape))\n",
    "print('{} frame: {}'.format(sensor_name, frame))\n",
    "print('{} bsight: {}'.format(sensor_name, bsight))\n",
    "print('{} vectors: {}'.format(sensor_name, vectors))\n",
    "print(bounds)"
   ]
  },
  {
   "cell_type": "markdown",
   "metadata": {},
   "source": [
    "We obtain the intersection between the boresight and Phobos"
   ]
  },
  {
   "cell_type": "code",
   "execution_count": 7,
   "metadata": {},
   "outputs": [
    {
     "ename": "SpiceyError",
     "evalue": "Spice returns not found for function: sincpt",
     "traceback": [
      "\u001b[0;31m---------------------------------------------------------------------------\u001b[0m",
      "\u001b[0;31mSpiceyError\u001b[0m                               Traceback (most recent call last)",
      "\u001b[0;32m<ipython-input-7-5032ea4163f5>\u001b[0m in \u001b[0;36m<module>\u001b[0;34m()\u001b[0m\n\u001b[0;32m----> 1\u001b[0;31m \u001b[0;34m(\u001b[0m\u001b[0mspoint\u001b[0m\u001b[0;34m,\u001b[0m \u001b[0mtrgepc\u001b[0m\u001b[0;34m,\u001b[0m \u001b[0msrfvec\u001b[0m \u001b[0;34m)\u001b[0m \u001b[0;34m=\u001b[0m \u001b[0mspiceypy\u001b[0m\u001b[0;34m.\u001b[0m\u001b[0msincpt\u001b[0m\u001b[0;34m(\u001b[0m\u001b[0;34m'ELLIPSOID'\u001b[0m\u001b[0;34m,\u001b[0m \u001b[0;34m'PHOBOS'\u001b[0m\u001b[0;34m,\u001b[0m \u001b[0met\u001b[0m\u001b[0;34m,\u001b[0m \u001b[0;34m'IAU_PHOBOS'\u001b[0m\u001b[0;34m,\u001b[0m \u001b[0;34m'NONE'\u001b[0m\u001b[0;34m,\u001b[0m \u001b[0;34m'MEX'\u001b[0m\u001b[0;34m,\u001b[0m \u001b[0mframe\u001b[0m\u001b[0;34m,\u001b[0m \u001b[0mbsight\u001b[0m\u001b[0;34m)\u001b[0m\u001b[0;34m\u001b[0m\u001b[0m\n\u001b[0m",
      "\u001b[0;32m/Library/Frameworks/Python.framework/Versions/3.6/lib/python3.6/site-packages/spiceypy-2.0.0-py3.6.egg/spiceypy/spiceypy.py\u001b[0m in \u001b[0;36mwith_errcheck\u001b[0;34m(*args, **kwargs)\u001b[0m\n\u001b[1;32m     68\u001b[0m     \u001b[0;32mdef\u001b[0m \u001b[0mwith_errcheck\u001b[0m\u001b[0;34m(\u001b[0m\u001b[0;34m*\u001b[0m\u001b[0margs\u001b[0m\u001b[0;34m,\u001b[0m \u001b[0;34m**\u001b[0m\u001b[0mkwargs\u001b[0m\u001b[0;34m)\u001b[0m\u001b[0;34m:\u001b[0m\u001b[0;34m\u001b[0m\u001b[0m\n\u001b[1;32m     69\u001b[0m         \u001b[0;32mtry\u001b[0m\u001b[0;34m:\u001b[0m\u001b[0;34m\u001b[0m\u001b[0m\n\u001b[0;32m---> 70\u001b[0;31m             \u001b[0mres\u001b[0m \u001b[0;34m=\u001b[0m \u001b[0mf\u001b[0m\u001b[0;34m(\u001b[0m\u001b[0;34m*\u001b[0m\u001b[0margs\u001b[0m\u001b[0;34m,\u001b[0m \u001b[0;34m**\u001b[0m\u001b[0mkwargs\u001b[0m\u001b[0;34m)\u001b[0m\u001b[0;34m\u001b[0m\u001b[0m\n\u001b[0m\u001b[1;32m     71\u001b[0m             \u001b[0mcheckForSpiceError\u001b[0m\u001b[0;34m(\u001b[0m\u001b[0mf\u001b[0m\u001b[0;34m)\u001b[0m\u001b[0;34m\u001b[0m\u001b[0m\n\u001b[1;32m     72\u001b[0m             \u001b[0;32mreturn\u001b[0m \u001b[0mres\u001b[0m\u001b[0;34m\u001b[0m\u001b[0m\n",
      "\u001b[0;32m/Library/Frameworks/Python.framework/Versions/3.6/lib/python3.6/site-packages/spiceypy-2.0.0-py3.6.egg/spiceypy/spiceypy.py\u001b[0m in \u001b[0;36mwrapper\u001b[0;34m(*args, **kwargs)\u001b[0m\n\u001b[1;32m     86\u001b[0m         \u001b[0mfound\u001b[0m \u001b[0;34m=\u001b[0m \u001b[0mres\u001b[0m\u001b[0;34m[\u001b[0m\u001b[0;34m-\u001b[0m\u001b[0;36m1\u001b[0m\u001b[0;34m]\u001b[0m\u001b[0;34m\u001b[0m\u001b[0m\n\u001b[1;32m     87\u001b[0m         \u001b[0;32mif\u001b[0m \u001b[0misinstance\u001b[0m\u001b[0;34m(\u001b[0m\u001b[0mfound\u001b[0m\u001b[0;34m,\u001b[0m \u001b[0mbool\u001b[0m\u001b[0;34m)\u001b[0m \u001b[0;32mand\u001b[0m \u001b[0;32mnot\u001b[0m \u001b[0mfound\u001b[0m\u001b[0;34m:\u001b[0m\u001b[0;34m\u001b[0m\u001b[0m\n\u001b[0;32m---> 88\u001b[0;31m             \u001b[0;32mraise\u001b[0m \u001b[0mstypes\u001b[0m\u001b[0;34m.\u001b[0m\u001b[0mSpiceyError\u001b[0m\u001b[0;34m(\u001b[0m\u001b[0;34m\"Spice returns not found for function: {}\"\u001b[0m\u001b[0;34m.\u001b[0m\u001b[0mformat\u001b[0m\u001b[0;34m(\u001b[0m\u001b[0mf\u001b[0m\u001b[0;34m.\u001b[0m\u001b[0m__name__\u001b[0m\u001b[0;34m)\u001b[0m\u001b[0;34m)\u001b[0m\u001b[0;34m\u001b[0m\u001b[0m\n\u001b[0m\u001b[1;32m     89\u001b[0m         \u001b[0;32melse\u001b[0m\u001b[0;34m:\u001b[0m\u001b[0;34m\u001b[0m\u001b[0m\n\u001b[1;32m     90\u001b[0m             \u001b[0mactualres\u001b[0m \u001b[0;34m=\u001b[0m \u001b[0mres\u001b[0m\u001b[0;34m[\u001b[0m\u001b[0;36m0\u001b[0m\u001b[0;34m:\u001b[0m\u001b[0;34m-\u001b[0m\u001b[0;36m1\u001b[0m\u001b[0;34m]\u001b[0m\u001b[0;34m\u001b[0m\u001b[0m\n",
      "\u001b[0;31mSpiceyError\u001b[0m: Spice returns not found for function: sincpt"
     ],
     "output_type": "error"
    }
   ],
   "source": [
    "(spoint, trgepc, srfvec ) = spiceypy.sincpt('ELLIPSOID', 'PHOBOS', et, 'IAU_PHOBOS', 'NONE', 'MEX', frame, bsight)"
   ]
  },
  {
   "cell_type": "markdown",
   "metadata": {},
   "source": [
    "Of course, it does not work because we are currently not intersecting the body, so let's look for an moment in time in which there is interception. We can simply modify our vector in the HRSC SRC frame:"
   ]
  },
  {
   "cell_type": "code",
   "execution_count": 8,
   "metadata": {},
   "outputs": [],
   "source": [
    "bsight = [-4.64050347,  0.0, 984.73813222]\n",
    "\n",
    "(spoint, trgepc, srfvec ) = spiceypy.sincpt('ELLIPSOID', 'PHOBOS', et, 'IAU_PHOBOS', 'NONE', 'MEX', frame, bsight)"
   ]
  },
  {
   "cell_type": "markdown",
   "metadata": {},
   "source": [
    "Finally we compute the illumination angles"
   ]
  },
  {
   "cell_type": "code",
   "execution_count": 9,
   "metadata": {},
   "outputs": [
    {
     "name": "stdout",
     "output_type": "stream",
     "text": [
      "Phase Angle: 55.72661057620171 [DEG], Solar Incidence: 64.0710850675298 [DEG]\n"
     ]
    }
   ],
   "source": [
    "(trgepc, srfvec, phase, solar, emissn) = spiceypy.ilumin('ELLIPSOID', 'PHOBOS', et, 'IAU_PHOBOS', 'NONE', 'MEX', spoint)\n",
    "\n",
    "print('Phase Angle: {} [DEG], Solar Incidence: {} [DEG]'.format(math.degrees(phase), math.degrees(solar)))"
   ]
  },
  {
   "cell_type": "markdown",
   "metadata": {},
   "source": [
    "But we could load a Digital Shape Model of PHOBOS and assess the difference in illumination by using the shape model. The DSK that we load is as follows:\n",
    "\n",
    "![title](img/phobos_dsk.png)"
   ]
  },
  {
   "cell_type": "code",
   "execution_count": 11,
   "metadata": {},
   "outputs": [
    {
     "name": "stdout",
     "output_type": "stream",
     "text": [
      "Phase Angle: 55.726610770196245 [DEG], Solar Incidence: 61.88293185629522 [DEG]\n"
     ]
    }
   ],
   "source": [
    "spiceypy.furnsh('/Users/mcosta/Dropbox/SPICE/SPICE_CROSS_MISSION/epsc2017-workshop/lessons/remote_sensing_tgo/kernels/dsk/phobos_2014_09_22.bds')\n",
    "\n",
    "(spoint, trgepc, srfvec ) = spiceypy.sincpt('DSK/UNPRIORITIZED', 'PHOBOS', et, 'IAU_PHOBOS', 'NONE', 'MEX', frame, bsight)\n",
    "(trgepc, srfvec, phase, solar, emissn) = spiceypy.ilumin('DSK/UNPRIORITIZED', 'PHOBOS', et, 'IAU_PHOBOS', 'NONE', 'MEX', spoint)\n",
    "\n",
    "print('Phase Angle: {} [DEG], Solar Incidence: {} [DEG]'.format(math.degrees(phase), math.degrees(solar)))"
   ]
  },
  {
   "cell_type": "markdown",
   "metadata": {},
   "source": [
    "Which compared to the value with the reference Ellipsoid:"
   ]
  },
  {
   "cell_type": "raw",
   "metadata": {},
   "source": [
    "Phase Angle: 55.72661057620171 [DEG], Solar Incidence: 64.0710850675298 [DEG]"
   ]
  },
  {
   "cell_type": "markdown",
   "metadata": {},
   "source": [
    "And this is what we would see in Cosmographia:\n",
    "    \n",
    "![title](img/cosmo.png)"
   ]
  },
  {
   "cell_type": "markdown",
   "metadata": {},
   "source": [
    "\n",
    "Now, we will show the object oriented capabilities of sciops, aimed to easy the way that we interface with SPICE. \n",
    "We will define a Time Window, Phobos as a target and Mars Express as an observer:"
   ]
  },
  {
   "cell_type": "code",
   "execution_count": 14,
   "metadata": {},
   "outputs": [],
   "source": [
    "import spiops as spiops\n",
    "\n",
    "interval = spiops.TimeWindow('2016-11-26T00:07:15', '2016-11-26T10:21:32', resolution=10)\n",
    "\n",
    "phobos = spiops.Target('PHOBOS', time=interval, frame='IAU_PHOBOS')\n",
    "mex = spiops.Observer('MEX', time=interval, target=phobos)"
   ]
  },
  {
   "cell_type": "markdown",
   "metadata": {},
   "source": [
    "The spiops library will plot some geometric quantites at our desire"
   ]
  },
  {
   "cell_type": "code",
   "execution_count": 15,
   "metadata": {},
   "outputs": [
    {
     "data": {
      "text/html": [
       "\n",
       "    <div class=\"bk-root\">\n",
       "        <a href=\"https://bokeh.pydata.org\" target=\"_blank\" class=\"bk-logo bk-logo-small bk-logo-notebook\"></a>\n",
       "        <span id=\"d6f3fd14-4db4-48eb-b7dd-823b804b31c9\">Loading BokehJS ...</span>\n",
       "    </div>"
      ]
     },
     "metadata": {},
     "output_type": "execute_result"
    },
    {
     "data": {},
     "metadata": {},
     "output_type": "display_data"
    },
    {
     "data": {
      "text/html": [
       "\n",
       "<div class=\"bk-root\">\n",
       "    <div class=\"bk-plotdiv\" id=\"ddc82e3c-ab3d-40c5-b527-eca3d1ff69d8\"></div>\n",
       "</div>"
      ]
     },
     "metadata": {},
     "output_type": "execute_result"
    },
    {
     "data": {},
     "metadata": {
      "application/vnd.bokehjs_exec.v0+json": {
       "id": "69e0849f-d598-4554-ac11-399266a29c8e"
      }
     },
     "output_type": "display_data"
    }
   ],
   "source": [
    "mex.Plot('distance', notebook=True)"
   ]
  },
  {
   "cell_type": "code",
   "execution_count": null,
   "metadata": {},
   "outputs": [],
   "source": []
  }
 ],
 "metadata": {
  "kernelspec": {
   "display_name": "Python 3",
   "language": "python",
   "name": "python3"
  },
  "language_info": {
   "codemirror_mode": {
    "name": "ipython",
    "version": 3
   },
   "file_extension": ".py",
   "mimetype": "text/x-python",
   "name": "python",
   "nbconvert_exporter": "python",
   "pygments_lexer": "ipython3",
   "version": "3.6.4"
  }
 },
 "nbformat": 4,
 "nbformat_minor": 1
}
