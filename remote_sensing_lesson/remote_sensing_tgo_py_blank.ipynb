{
 "cells": [
  {
   "cell_type": "markdown",
   "metadata": {
    "collapsed": true
   },
   "source": [
    "# Remote Sensing Hands-On Lesson, using TGO\n",
    "\n",
    " \n",
    "   EPSC Conference, Berlin, September 18, 2018\n",
    " \n",
    " \n",
    "## Overview\n",
    "\n",
    " \n",
    "   In this lesson you will develop a series of simple programs that\n",
    "   demonstrate the usage of SpiceyPy to compute a variety of different\n",
    "   geometric quantities applicable to experiments carried out by a remote\n",
    "   sensing instrument flown on an interplanetary spacecraft. This\n",
    "   particular lesson focuses on a spectrometer flying on the ExoMars2016 TGO\n",
    "   spacecraft, but many of the concepts are easily extended and generalized\n",
    "   to other scenarios."
   ]
  },
  {
   "cell_type": "markdown",
   "metadata": {},
   "source": [
    "## Importing SpiceyPy and Loading the Kernels\n"
   ]
  },
  {
   "cell_type": "code",
   "execution_count": null,
   "metadata": {},
   "outputs": [],
   "source": []
  },
  {
   "cell_type": "markdown",
   "metadata": {},
   "source": [
    "## Time Conversion \n",
    "\n",
    "\n",
    "Write a program that prompts the user for an input UTC time string,\n",
    "converts it to the following time systems and output formats:\n",
    " \n",
    "* Ephemeris Time (ET) in seconds past J2000\n",
    "* Calendar Ephemeris Time\n",
    "* Spacecraft Clock Time\n",
    " \n",
    "and displays the results. Use the program to convert \"2018 JUN 11\n",
    "19:32:00\" UTC into these alternate systems."
   ]
  },
  {
   "cell_type": "code",
   "execution_count": null,
   "metadata": {},
   "outputs": [],
   "source": []
  },
  {
   "cell_type": "markdown",
   "metadata": {},
   "source": [
    "## Obtaining Target States and Positions\n",
    " \n",
    "Write a program that prompts the user for an input UTC time string,\n",
    "computes the following quantities at that epoch:\n",
    " \n",
    "* The apparent state of Mars as seen from ExoMars2016 TGO in the J2000 frame, in kilometers and kilometers/second. This vector itself is not of any particular interest, but it is a useful intermediate quantity in some geometry calculations.\n",
    " \n",
    "* The apparent position of the Earth as seen from ExoMars2016 TGO in the J2000 frame, in kilometers.\n",
    " \n",
    "* The one-way light time between ExoMars2016 TGO and the apparent position of Earth, in seconds.\n",
    " \n",
    "* The apparent position of the Sun as seen from Mars in the J2000 frame (J2000), in kilometers.\n",
    " \n",
    "* The actual (geometric) distance between the Sun and Mars, in astronomical units.\n",
    " \n",
    "and displays the results. Use the program to compute these quantities at\n",
    "\"2018 JUN 11 19:32:00\" UTC."
   ]
  },
  {
   "cell_type": "code",
   "execution_count": null,
   "metadata": {},
   "outputs": [],
   "source": []
  },
  {
   "cell_type": "markdown",
   "metadata": {},
   "source": [
    "## Spacecraft Orientation and Reference Frames\n",
    "\n",
    " \n",
    "Write a program that prompts the user for an input time string, and\n",
    "computes and displays the following at the epoch of interest:\n",
    " \n",
    "* The apparent state of Mars as seen from ExoMars2016 TGO in the IAU_MARS body-fixed frame. This vector itself is not of any particular interest, but it is a useful intermediate quantity in some geometry calculations.\n",
    " \n",
    "* The angular separation between the apparent position of Mars as seen from ExoMars2016 TGO and the nominal instrument view direction.\n",
    " \n",
    "* The nominal instrument view direction is not provided by any kernel variable, but it is indicated in the ExoMars2016 TGO frame kernel.\n",
    " \n",
    "Use the program to compute these quantities at the epoch 2018 JUN 11\n",
    "   19:32:00 UTC."
   ]
  },
  {
   "cell_type": "code",
   "execution_count": null,
   "metadata": {},
   "outputs": [],
   "source": []
  },
  {
   "cell_type": "markdown",
   "metadata": {},
   "source": [
    "## Computing Sub-s/c and Sub-solar Points on an Ellipsoid and a DSK \n",
    "\n",
    " \n",
    "Write a program that prompts the user for an input UTC time string and computes the following quantities at that epoch:\n",
    " \n",
    "* The apparent sub-observer point of ExoMars2016 TGO on Mars, in the body fixed frame IAU_MARS, in kilometers.\n",
    " \n",
    "* The apparent sub-solar point on Mars, as seen from ExoMars2016 TGO in the body fixed frame IAU_MARS, in kilometers.\n",
    " \n",
    "The program computes each point twice: once using an ellipsoidal shape model and the\n",
    " \n",
    "    near point/ellipsoid\n",
    " \n",
    "definition, and once using a DSK shape model and the\n",
    " \n",
    "    nadir/dsk/unprioritized\n",
    " \n",
    "definition.\n",
    "\n",
    "The program displays the results. Use the program to compute these\n",
    "   quantities at 2018 JUN 11 19:32:00 UTC."
   ]
  },
  {
   "cell_type": "code",
   "execution_count": null,
   "metadata": {},
   "outputs": [],
   "source": []
  },
  {
   "cell_type": "markdown",
   "metadata": {},
   "source": [
    "## Intersecting Vectors with an Ellipsoid and a DSK (fovint)\n",
    " \n",
    " \n",
    "   Write a program that prompts the user for an input UTC time string and,\n",
    "   for that time, computes the intersection of the ExoMars-16 TGO NOMAD LNO\n",
    "   Nadir aperture boresight and field of view (FOV) boundary vectors with\n",
    "   the surface of Mars. Compute each intercept twice: once with Mars' shape\n",
    "   modeled as an ellipsoid, and once with Mars' shape modeled by DSK data.\n",
    "   The program presents each point of intersection as\n",
    " \n",
    "* A Cartesian vector in the IAU_MARS frame\n",
    "* Planetocentric (latitudinal) coordinates in the IAU_MARS frame.\n",
    " \n",
    "For each of the camera FOV boundary and boresight vectors, if an\n",
    "   intersection is found, the program displays the results of the above\n",
    "   computations, otherwise it indicates no intersection exists.\n",
    " \n",
    "   At each point of intersection compute the following:\n",
    " \n",
    "* Phase angle\n",
    "* Solar incidence angle\n",
    "* Emission angle\n",
    " \n",
    "These angles should be computed using both ellipsoidal and DSK shape\n",
    "   models.\n",
    " \n",
    "   Additionally compute the local solar time at the intercept of the\n",
    "   spectrometer aperture boresight with the surface of Mars, using both\n",
    "   ellipsoidal and DSK shape models.\n",
    " Use this program to compute values at 2018 JUN 11 19:32:00 UTC"
   ]
  },
  {
   "cell_type": "code",
   "execution_count": null,
   "metadata": {},
   "outputs": [],
   "source": []
  }
 ],
 "metadata": {
  "kernelspec": {
   "display_name": "Python 3",
   "language": "python",
   "name": "python3"
  },
  "language_info": {
   "codemirror_mode": {
    "name": "ipython",
    "version": 3
   },
   "file_extension": ".py",
   "mimetype": "text/x-python",
   "name": "python",
   "nbconvert_exporter": "python",
   "pygments_lexer": "ipython3",
   "version": "3.6.4"
  }
 },
 "nbformat": 4,
 "nbformat_minor": 1
}
